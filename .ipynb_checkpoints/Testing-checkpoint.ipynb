{
 "cells": [
  {
   "cell_type": "code",
   "execution_count": 6,
   "id": "c1da3bda-948e-44d9-9b00-d73000dc3f5c",
   "metadata": {},
   "outputs": [],
   "source": [
    "#! pip install -r requirements.txt"
   ]
  },
  {
   "cell_type": "code",
   "execution_count": 7,
   "id": "2c9ccb28-e8e2-4a7a-bd66-9432422b26da",
   "metadata": {},
   "outputs": [],
   "source": [
    "from flask import Flask, request, render_template\n",
    "import numpy as np\n",
    "import pandas as pd\n",
    "import pickle as pkl\n",
    "from keras.models import model_from_json\n",
    "from sklearn.metrics.pairwise import cosine_similarity\n",
    "from bs4 import BeautifulSoup\n",
    "import re\n",
    "import json"
   ]
  },
  {
   "cell_type": "code",
   "execution_count": 8,
   "id": "b0e257c9-d243-4958-92cd-588fe0cf71db",
   "metadata": {},
   "outputs": [
    {
     "ename": "NameError",
     "evalue": "name 'Flask' is not defined",
     "output_type": "error",
     "traceback": [
      "\u001b[1;31m---------------------------------------------------------------------------\u001b[0m",
      "\u001b[1;31mNameError\u001b[0m                                 Traceback (most recent call last)",
      "Cell \u001b[1;32mIn[8], line 1\u001b[0m\n\u001b[1;32m----> 1\u001b[0m app \u001b[38;5;241m=\u001b[39m \u001b[43mFlask\u001b[49m(\u001b[38;5;124m\"\u001b[39m\u001b[38;5;124m__name__\u001b[39m\u001b[38;5;124m\"\u001b[39m)\n\u001b[0;32m      3\u001b[0m DATA_DIR \u001b[38;5;241m=\u001b[39m \u001b[38;5;124m\"\u001b[39m\u001b[38;5;124m./data/\u001b[39m\u001b[38;5;124m\"\u001b[39m\n",
      "\u001b[1;31mNameError\u001b[0m: name 'Flask' is not defined"
     ]
    }
   ],
   "source": [
    "app = Flask(\"__name__\")\n",
    "\n",
    "DATA_DIR = \"./data/\""
   ]
  },
  {
   "cell_type": "code",
   "execution_count": null,
   "id": "9d32d0eb-ce9e-48db-b807-b16de9ee8bc9",
   "metadata": {},
   "outputs": [],
   "source": [
    "# First, we'll read the dataset\n",
    "dataset = pd.read_csv(DATA_DIR+'final_data.csv')\n",
    "# There's one ' ' value in one of the rows. We have to remove it\n",
    "dataset['Course'].replace(' ', np.nan, inplace=True)\n",
    "dataset.dropna(subset=['Course'], inplace=True)\n",
    "dataset = dataset.reset_index(drop=True)\n"
   ]
  },
  {
   "cell_type": "code",
   "execution_count": null,
   "id": "77c3eff3-ef36-4ab1-b7e3-f651418418ab",
   "metadata": {},
   "outputs": [],
   "source": [
    "# Gather unique courses\n",
    "unique_df = dataset[['University', 'Course', 'IELTS', 'Undergrad', 'work_ex']].drop_duplicates()\n",
    "unique_df = unique_df.reset_index(drop=True)\n",
    "\n",
    "unique_courses_df = unique_df[['Course']]\n",
    "unique_profile_df = unique_df[['IELTS', 'Undergrad', 'work_ex']]"
   ]
  }
 ],
 "metadata": {
  "kernelspec": {
   "display_name": "Python 3 (ipykernel)",
   "language": "python",
   "name": "python3"
  },
  "language_info": {
   "codemirror_mode": {
    "name": "ipython",
    "version": 3
   },
   "file_extension": ".py",
   "mimetype": "text/x-python",
   "name": "python",
   "nbconvert_exporter": "python",
   "pygments_lexer": "ipython3",
   "version": "3.9.18"
  }
 },
 "nbformat": 4,
 "nbformat_minor": 5
}
